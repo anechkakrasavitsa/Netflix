{
 "cells": [
  {
   "cell_type": "code",
   "execution_count": null,
   "id": "b5342414",
   "metadata": {},
   "outputs": [],
   "source": [
    "#load Pandas library to work with .csv file\n",
    "import pandas as pd \n",
    "\n",
    "netflix = pd.read_csv('netflix_titles.csv', index_col=0)\n",
    "netflix['type'] = netflix['type'].str.split(',')\n",
    "netflix['cast'] = netflix['cast'].str.split(',')\n",
    "netflix['country'] = netflix['country'].str.split(',')\n",
    "netflix['duration'] = netflix['duration'].str.split(',')\n",
    "\n",
    "ccountries_count = {}\n",
    "for elem in netflix['country']:\n",
    "    if not isinstance(elem, float):\n",
    "        for el in elem:\n",
    "            if el in countries_count:\n",
    "                countries_count[el] += 1\n",
    "            else:\n",
    "                countries_count[el] = 1\n",
    "            \n",
    "top_countries = sorted(countries_count, key=countries_count.get, reverse=True)[:3]\n",
    "print(f'Топ-3 страны, которые снимают продукты Netflix: {\", \".join(top_countries)}.')\n"
   ]
  },
  {
   "cell_type": "code",
   "execution_count": null,
   "id": "2c5ce7d8",
   "metadata": {},
   "outputs": [],
   "source": [
    "number_of_movies = 0\n",
    "number_of_series = 0\n",
    "for elem in netflix['type']:\n",
    "    if elem == ['Movie']:\n",
    "        number_of_movies += 1\n",
    "    else:\n",
    "        number_of_series += 1\n",
    "if number_of_movies > number_of_series:\n",
    "    print(f'Вот это да! Фильмов больше, чем сериалов в {round(number_of_movies/number_of_series, 1)} раза.')\n",
    "elif number_of_movies < number_of_series:\n",
    "    print(f'Вот это да! Сериалов больше, чем фильмов в {round(number_of_series/number_of_movies, 1)} раза.')\n",
    "else:\n",
    "    print(f'Вот это да! На Netflix одинаковое количество сериалов и фильмов! Чудеса!')\n",
    "    \n",
    "total_length_of_movies = 0\n",
    "total_length_of_series = 0\n",
    "for elem in netflix['duration']:\n",
    "    if not isinstance(elem, float):\n",
    "        elem = elem[0].split()\n",
    "        if elem[1] == 'min':\n",
    "            total_length_of_movies += int(elem[0])\n",
    "        else:\n",
    "            total_length_of_series += int(elem[0])\n",
    "print(f'Средняя продолжительность фильма {round(total_length_of_movies/number_of_movies, 1)} минут.')\n",
    "print(f'Средняя продолжительность сериала {round(total_length_of_series/number_of_series, 1)} сезонов.')"
   ]
  },
  {
   "cell_type": "code",
   "execution_count": null,
   "id": "b3eb5018",
   "metadata": {},
   "outputs": [],
   "source": [
    "most_popular_actor_actress = {}\n",
    "for elem in netflix['cast']:\n",
    "    if not isinstance(elem, float):\n",
    "        for person in elem:\n",
    "            if person in most_popular_actor_actress:\n",
    "                most_popular_actor_actress[person] += 1\n",
    "            else:\n",
    "                most_popular_actor_actress[person] = 1\n",
    "answer = sorted(most_popular_actor_actress, key=most_popular_actor_actress.get, reverse=True)\n",
    "print(f'Самый популярный actor{list(answer)[0]}, который снялся {most_popular_actor_actress[list(answer)[0]]} раз.')"
   ]
  },
  {
   "cell_type": "code",
   "execution_count": 1,
   "id": "b61e0fda",
   "metadata": {},
   "outputs": [
    {
     "data": {
      "text/plain": [
       "'C:\\\\Users\\\\Lionix\\\\Downloads'"
      ]
     },
     "execution_count": 1,
     "metadata": {},
     "output_type": "execute_result"
    }
   ],
   "source": [
    "pwd"
   ]
  },
  {
   "cell_type": "code",
   "execution_count": null,
   "id": "7d3c8e14",
   "metadata": {},
   "outputs": [],
   "source": []
  }
 ],
 "metadata": {
  "kernelspec": {
   "display_name": "Python 3 (ipykernel)",
   "language": "python",
   "name": "python3"
  },
  "language_info": {
   "codemirror_mode": {
    "name": "ipython",
    "version": 3
   },
   "file_extension": ".py",
   "mimetype": "text/x-python",
   "name": "python",
   "nbconvert_exporter": "python",
   "pygments_lexer": "ipython3",
   "version": "3.11.5"
  }
 },
 "nbformat": 4,
 "nbformat_minor": 5
}
